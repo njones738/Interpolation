{
 "cells": [
  {
   "cell_type": "markdown",
   "metadata": {},
   "source": [
    "# Import packages used"
   ]
  },
  {
   "cell_type": "code",
   "execution_count": 36,
   "metadata": {},
   "outputs": [],
   "source": [
    "import pandas as pd\n",
    "import numpy as np\n",
    "import matplotlib.pyplot as plt"
   ]
  },
  {
   "cell_type": "markdown",
   "metadata": {},
   "source": [
    "# Import data collected from the output of the SAS imputation macro."
   ]
  },
  {
   "cell_type": "code",
   "execution_count": 37,
   "metadata": {},
   "outputs": [],
   "source": [
    "x_val =  [0.0, 0.05, 0.1, 0.15, 0.2, 0.25, 0.3, 0.35, 0.375, 0.39, 0.4, 0.41, 0.425, 0.44, 0.45, 0.46, 0.475, 0.49, 0.5, 0.51, 0.525, 0.54, 0.55, 0.56, 0.575, 0.59, 0.6, 0.61, 0.625, 0.64, 0.65, 0.66, 0.675, 0.69, 0.7, 0.71, 0.725, 0.75, 0.8, 0.85, 0.9, 0.95, 1.0] \n",
    "y_val =  [13.0, 123.0, 129.0, 130.0, 130.0, 130.0, 130.0, 130.0, 130.0, 161.0, 166.0, 185.0, 201.0, 207.0, 211.0, 211.0, 221.0, 230.0, 240.0, 240.0, 248.0, 256.0, 256.0, 261.0, 272.0, 279.0, 284.0, 284.0, 284.0, 286.0, 286.0, 286.0, 291.0, 293.0, 293.0, 295.0, 295.0, 296.0, 303.0, 311.0, 316.0, 327.0, 342.0]\n",
    "building_up = [x_val,y_val]\n",
    "the_frame = pd.DataFrame(building_up)\n",
    "the_frame = the_frame.T\n",
    "the_frame.rename(columns={0:'x-val', 1:'y-val'}, inplace=True)"
   ]
  },
  {
   "cell_type": "markdown",
   "metadata": {},
   "source": [
    "# Create Class object"
   ]
  },
  {
   "cell_type": "code",
   "execution_count": 48,
   "metadata": {},
   "outputs": [],
   "source": [
    "class REGRESS:\n",
    "    import pandas as pd\n",
    "    import numpy as np\n",
    "    import matplotlib.pyplot as plt\n",
    "\n",
    "    def __init__(self,x_data,y_data):\n",
    "        self.x = x_data\n",
    "        self.y = y_data\n",
    "        \n",
    "        self.in_ter_pol8 = []\n",
    "    \n",
    "    def sigmX(self,varX,xponent): # Take the data & raise to a power & return the sum.\n",
    "        namX = sum( ((varX)**xponent) )        # Sigma(  (xk**i))\n",
    "        return (namX)\n",
    "# -----------------------------------------------------------------------------------------------------------------------\n",
    "    def sigmY(self,varX, varY, xponent): # Take the data & raise the 1st input to a power & get the product & Return the sum\n",
    "        namY = sum( (varY)*((varX)**xponent) ) # Sigma(yk(xk**i))\n",
    "        return (namY)           # return Sigma(yk(xk**i)), Sigma((xk**i))\n",
    "# -----------------------------------------------------------------------------------------------------------------------\n",
    "    def n_tur_pole8(self,n): # interpolate an nth-degree equation from a column of x (features) and y (targets) data.\n",
    "        A = self.pd.DataFrame()\n",
    "        for i in range(n+1):\n",
    "            Ai = []\n",
    "            for j in range(n+1):\n",
    "                Aij = self.sigmX(self.x,((2*(n))-j-i))\n",
    "                Ai.append(Aij)\n",
    "#                print(self.pd.DataFrame(Ai))\n",
    "            A[i] = Ai\n",
    "#            print(\"Matrix A: \",A)\n",
    "#            print(\"Shape of A: \",A.shape)\n",
    "        r = []\n",
    "        for i in range(n+1):\n",
    "            ri = self.sigmY(self.x, self.y, ((n)-i))\n",
    "            r.append(ri)\n",
    "        r = self.np.array(r).reshape(-1,1)\n",
    "#        print(\"Matrix r: \",r)\n",
    "#        print(\"Shape of r: \",r.shape)\n",
    "        product = self.np.matmul(self.np.linalg.inv(A),r)\n",
    "#        print(self.pd.DataFrame(A))\n",
    "        self.in_ter_pol8 = list(product)\n",
    "        return list(self.in_ter_pol8) # position 0 is the beta parameter to x^n, position 1 is the beta parameter to x^(n-1), etc.\n",
    "# -----------------------------------------------------------------------------------------------------------------------\n",
    "    def eval_equ(self,single_x,coef): # evalute an equation by inputting an x and a list of coefficients\n",
    "        ay = [] # create an empty\n",
    "        l = (len(coef))-1 # len(coef) will return the desired exponent +1. so we -1 to compensate.\n",
    "        for i in range(l+1): # but we want to use every coefficient so l+1 here.\n",
    "            t = coef[i]*(single_x**(l-i)) # l-i. Goes down by one each iteration from the desired exponent created 2 lines above.\n",
    "            ay.append(t)\n",
    "        return sum(ay) # sum together to get the evaluation of x. \n",
    "# -----------------------------------------------------------------------------------------------------------------------\n",
    "    def get_adjusted(self,model=None): # calculate the adjusted R-Squared from\n",
    "        yhat = []\n",
    "        residual_vector = []\n",
    "        Totals_vector = []\n",
    "        av_rage = self.y.mean()\n",
    "        l = len(self.y)\n",
    "        if model == None:\n",
    "            enter_polate = self.in_ter_pol8\n",
    "        else:\n",
    "            enter_polate = model\n",
    "        p = len(enter_polate)\n",
    "        for i in range(len(self.x)): # This makes yhat\n",
    "            xx = self.eval_equ(self.x[i],enter_polate)\n",
    "            yhat.append(xx) \n",
    "        for i in range(len(self.y)): # This makes residuals: sigma((y - yhat)**2)\n",
    "            resi = (self.y[i] - yhat[i])**2\n",
    "            residual_vector.append(resi)\n",
    "        for i in range(len(self.y)): # This makes Sum of Square Totals: sigma((y - mu)**2)\n",
    "            toti = (self.y[i] - av_rage)**2\n",
    "            Totals_vector.append(toti)\n",
    "        \n",
    "        # This makes the adj-R**2 value\n",
    "        SSE = sum(residual_vector)\n",
    "        SST = sum(Totals_vector)\n",
    "        SSR = SST - SSE\n",
    "        R_Squ = 1 - (SSE/SST)\n",
    "        adj_R_Squ =  1 - ( ( (SSE)/( (l) - (p) ) )/( (SST)/( (l) - (1) ) ) ) \n",
    "        return list(adj_R_Squ) # ,(SSE/SST),SSE,SST\n"
   ]
  },
  {
   "cell_type": "markdown",
   "metadata": {},
   "source": [
    "# Extra Functions"
   ]
  },
  {
   "cell_type": "code",
   "execution_count": 57,
   "metadata": {},
   "outputs": [],
   "source": [
    "# -----------------------------------------------------------------------------------------------------------------------\n",
    "def drivative(coef): # return the first derivative from a list of coefficients. \n",
    "    ret_urns = []\n",
    "    l = len(coef)\n",
    "    for i in range(l-1):\n",
    "        urn = (coef[i])*((l-1)-i)\n",
    "        ret_urns.append(urn)\n",
    "    return list(ret_urns)\n",
    "# -----------------------------------------------------------------------------------------------------------------------\n",
    "def sec_derivative(coef): # return the second derivative from a list of coefficients. \n",
    "    coefprime = drivative(coef)\n",
    "    return drivative(coefprime)"
   ]
  },
  {
   "cell_type": "markdown",
   "metadata": {},
   "source": [
    "## ----------------------------------------------------------------------------------------------------------------------------------"
   ]
  },
  {
   "cell_type": "markdown",
   "metadata": {},
   "source": [
    "### initialize class object"
   ]
  },
  {
   "cell_type": "code",
   "execution_count": 51,
   "metadata": {},
   "outputs": [],
   "source": [
    "test = REGRESS(the_frame['x-val'],the_frame['y-val'])"
   ]
  },
  {
   "cell_type": "markdown",
   "metadata": {},
   "source": [
    "### Interpolate the data with a 10th degree polynomial"
   ]
  },
  {
   "cell_type": "code",
   "execution_count": 68,
   "metadata": {},
   "outputs": [],
   "source": [
    "p10 = test.n_tur_pole8(10)"
   ]
  },
  {
   "cell_type": "markdown",
   "metadata": {},
   "source": [
    "### Get adjusted R-Squ for the interpolated Polynomial of degree 10"
   ]
  },
  {
   "cell_type": "code",
   "execution_count": 53,
   "metadata": {
    "scrolled": true
   },
   "outputs": [
    {
     "data": {
      "text/plain": [
       "[0.9918507573184497]"
      ]
     },
     "execution_count": 53,
     "metadata": {},
     "output_type": "execute_result"
    }
   ],
   "source": [
    "# get adjusted R-Squared\n",
    "test.get_adjusted()"
   ]
  },
  {
   "cell_type": "markdown",
   "metadata": {},
   "source": [
    "### Bisection method"
   ]
  },
  {
   "cell_type": "code",
   "execution_count": 61,
   "metadata": {},
   "outputs": [
    {
     "name": "stdout",
     "output_type": "stream",
     "text": [
      " \n",
      "Degree 10\n",
      "[array([-735.80557449]), array([1054.31328043]), array([3365.81167656])]\n"
     ]
    }
   ],
   "source": [
    "#10     \n",
    "#SEC_DER: -268368210*(x^8)+1105279236*(x^7)-1887165784*(x^6)+1727558784*(x^5)-916188390*(x^4)+284306570*(x^3)-49803232.5*(x^2)+4491354.375*(x)-161    \n",
    "#ROOT:    0.4409991836095 \n",
    "u = [test.eval_equ(0.45,sec_derivative(p10)),\n",
    "     test.eval_equ(0.42845,sec_derivative(p10)),\n",
    "     test.eval_equ(0.4,sec_derivative(p10))]\n",
    "\n",
    "print(\" \")\n",
    "print(\"Degree 10\")\n",
    "print(u)          # "
   ]
  },
  {
   "cell_type": "markdown",
   "metadata": {},
   "source": [
    "# Adjusted R-Squ values for the interpolated Polynomials of degrees 1 to 15"
   ]
  },
  {
   "cell_type": "code",
   "execution_count": 67,
   "metadata": {
    "scrolled": true
   },
   "outputs": [
    {
     "name": "stdout",
     "output_type": "stream",
     "text": [
      "adj_R_squ, power\n"
     ]
    },
    {
     "data": {
      "text/plain": [
       "[[[0.8918169340937223], 1],\n",
       " [[0.9041531495181907], 2],\n",
       " [[0.921926805982989], 3],\n",
       " [[0.9200532371107547], 4],\n",
       " [[0.9679050259415309], 5],\n",
       " [[0.9896348274363024], 6],\n",
       " [[0.9893545683884388], 7],\n",
       " [[0.9895257653453733], 8],\n",
       " [[0.9900329463329481], 9],\n",
       " [[0.9918507573184497], 10],\n",
       " [[0.9057478748378882], 11],\n",
       " [[-4.07877986915771], 12],\n",
       " [[-55.03577360731261], 13],\n",
       " [[-4228.847556178763], 14],\n",
       " [[-4633.1886945809], 15]]"
      ]
     },
     "execution_count": 67,
     "metadata": {},
     "output_type": "execute_result"
    }
   ],
   "source": [
    "ob_ject = REGRESS(the_frame['x-val'],the_frame['y-val'])\n",
    "done_it = []\n",
    "\n",
    "print(\"adj_R_squ, power\")\n",
    "for m in range(15):\n",
    "    pwer = m+1\n",
    "    ob_ject.n_tur_pole8(m+1)\n",
    "    do_it = ob_ject.get_adjusted()\n",
    "    done_it.append([do_it,pwer])\n",
    "\n",
    "done_it"
   ]
  },
  {
   "cell_type": "markdown",
   "metadata": {},
   "source": [
    "# Plots and whatnot"
   ]
  },
  {
   "cell_type": "code",
   "execution_count": null,
   "metadata": {},
   "outputs": [],
   "source": []
  },
  {
   "cell_type": "code",
   "execution_count": null,
   "metadata": {},
   "outputs": [],
   "source": []
  },
  {
   "cell_type": "code",
   "execution_count": null,
   "metadata": {},
   "outputs": [],
   "source": []
  },
  {
   "cell_type": "code",
   "execution_count": null,
   "metadata": {},
   "outputs": [],
   "source": []
  },
  {
   "cell_type": "code",
   "execution_count": null,
   "metadata": {},
   "outputs": [],
   "source": []
  },
  {
   "cell_type": "code",
   "execution_count": null,
   "metadata": {},
   "outputs": [],
   "source": []
  },
  {
   "cell_type": "code",
   "execution_count": null,
   "metadata": {},
   "outputs": [],
   "source": []
  },
  {
   "cell_type": "code",
   "execution_count": null,
   "metadata": {},
   "outputs": [],
   "source": []
  }
 ],
 "metadata": {
  "kernelspec": {
   "display_name": "Python 3",
   "language": "python",
   "name": "python3"
  },
  "language_info": {
   "codemirror_mode": {
    "name": "ipython",
    "version": 3
   },
   "file_extension": ".py",
   "mimetype": "text/x-python",
   "name": "python",
   "nbconvert_exporter": "python",
   "pygments_lexer": "ipython3",
   "version": "3.8.5"
  }
 },
 "nbformat": 4,
 "nbformat_minor": 4
}
